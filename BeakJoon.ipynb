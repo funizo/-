{
 "cells": [
  {
   "cell_type": "markdown",
   "metadata": {},
   "source": [
    "#5월27일\n"
   ]
  },
  {
   "cell_type": "code",
   "execution_count": null,
   "metadata": {},
   "outputs": [],
   "source": [
    "#3003번\n",
    "a,b,c,d,e,f = map(int,input().split())\n",
    "\n",
    "k = 1\n",
    "q = 1\n",
    "r = 2\n",
    "b_1 = 2\n",
    "n = 2\n",
    "p =8\n",
    "\n",
    "print(k-a,q-b,r-c,b_1-d,n-e,p-f)"
   ]
  },
  {
   "cell_type": "code",
   "execution_count": null,
   "metadata": {},
   "outputs": [],
   "source": [
    "#3046\n",
    "r1,s = map(int,input().split())\n",
    "r2 = s*2-r1\n",
    "print(r2)"
   ]
  },
  {
   "cell_type": "code",
   "execution_count": null,
   "metadata": {},
   "outputs": [],
   "source": [
    "#24086\n",
    "a = int(input())\n",
    "b = int(input())\n",
    "if (100<=a and a<b and b<=200):\n",
    "    print(b-a)"
   ]
  },
  {
   "cell_type": "code",
   "execution_count": null,
   "metadata": {},
   "outputs": [],
   "source": [
    "#1297\n",
    "d, h, w = map(int, input().split())\n",
    "r = d / ((h ** 2 + w ** 2) ** 0.5)\n",
    "print(int(h * r), int(w * r))"
   ]
  }
 ],
 "metadata": {
  "interpreter": {
   "hash": "c2e73a231f854fa93290a9389733672a18823448914d9c19be8b08a9e4c2d575"
  },
  "kernelspec": {
   "display_name": "Python 3.9.5 64-bit",
   "language": "python",
   "name": "python3"
  },
  "language_info": {
   "codemirror_mode": {
    "name": "ipython",
    "version": 3
   },
   "file_extension": ".py",
   "mimetype": "text/x-python",
   "name": "python",
   "nbconvert_exporter": "python",
   "pygments_lexer": "ipython3",
   "version": "3.9.5"
  },
  "orig_nbformat": 4
 },
 "nbformat": 4,
 "nbformat_minor": 2
}
